{
 "cells": [
  {
   "cell_type": "code",
   "execution_count": 4,
   "id": "8dcbff37",
   "metadata": {},
   "outputs": [
    {
     "name": "stdout",
     "output_type": "stream",
     "text": [
      "['/home/iamsyedjafer/Documents/datasets/petrol_data/all petrol data from 2018/Andhra Pradesh_Chittoor_tmp.csv', '/home/iamsyedjafer/Documents/datasets/petrol_data/all petrol data from 2018/Andhra Pradesh_Hyderabad_tmp.csv', '/home/iamsyedjafer/Documents/datasets/petrol_data/all petrol data from 2018/Dadra and Nagar Haveli_Silvassa_tmp.csv', '/home/iamsyedjafer/Documents/datasets/petrol_data/all petrol data from 2018/Daman and Diu_Daman_tmp.csv', '/home/iamsyedjafer/Documents/datasets/petrol_data/all petrol data from 2018/Assam_Dibrugarh_tmp.csv', '/home/iamsyedjafer/Documents/datasets/petrol_data/all petrol data from 2018/Andhra Pradesh_Ongole_tmp.csv', '/home/iamsyedjafer/Documents/datasets/petrol_data/all petrol data from 2018/Andhra Pradesh_Nellore_tmp.csv', '/home/iamsyedjafer/Documents/datasets/petrol_data/all petrol data from 2018/Andhra Pradesh_Vizag_tmp.csv', '/home/iamsyedjafer/Documents/datasets/petrol_data/all petrol data from 2018/Andhra Pradesh_Guntur_tmp.csv', '/home/iamsyedjafer/Documents/datasets/petrol_data/all petrol data from 2018/Assam_Golaghat_tmp.csv', '/home/iamsyedjafer/Documents/datasets/petrol_data/all petrol data from 2018/Chhattisgarh_Ambikapur_tmp.csv', '/home/iamsyedjafer/Documents/datasets/petrol_data/all petrol data from 2018/Andhra Pradesh_Eluru_tmp.csv', '/home/iamsyedjafer/Documents/datasets/petrol_data/all petrol data from 2018/Delhi_Connaught Place_tmp.csv', '/home/iamsyedjafer/Documents/datasets/petrol_data/all petrol data from 2018/Arunachal Pradesh_Itanagar_tmp.csv', '/home/iamsyedjafer/Documents/datasets/petrol_data/all petrol data from 2018/Chandigarh_Chandigarh_tmp.csv', '/home/iamsyedjafer/Documents/datasets/petrol_data/all petrol data from 2018/Bihar_Araria_tmp.csv', '/home/iamsyedjafer/Documents/datasets/petrol_data/all petrol data from 2018/Andhra Pradesh_Machilipatnam_tmp.csv', '/home/iamsyedjafer/Documents/datasets/petrol_data/all petrol data from 2018/Andhra Pradesh_Vizianagaram_tmp.csv', '/home/iamsyedjafer/Documents/datasets/petrol_data/all petrol data from 2018/Andhra Pradesh_Anantapur_tmp.csv', '/home/iamsyedjafer/Documents/datasets/petrol_data/all petrol data from 2018/Andhra Pradesh_Srikakulam_tmp.csv', '/home/iamsyedjafer/Documents/datasets/petrol_data/all petrol data from 2018/Assam_Barpeta_tmp.csv', '/home/iamsyedjafer/Documents/datasets/petrol_data/all petrol data from 2018/Andhra Pradesh_Kakinada_tmp.csv', '/home/iamsyedjafer/Documents/datasets/petrol_data/all petrol data from 2018/Andaman and Nicobar Islands_Port Blair_tmp.csv', '/home/iamsyedjafer/Documents/datasets/petrol_data/all petrol data from 2018/Andhra Pradesh_Kurnool_tmp.csv', '/home/iamsyedjafer/Documents/datasets/petrol_data/all petrol data from 2018/Andhra Pradesh_Kadapa_tmp.csv']\n"
     ]
    }
   ],
   "source": [
    "import pandas as pd\n",
    "import glob\n",
    "import os\n",
    "\n",
    "all_files = glob.glob(os.path.join(os.getcwd(),\"*.csv\"))\n",
    "\n",
    "li = []\n",
    "print(all_files)\n",
    "\n",
    "for filename in all_files:\n",
    "    df = pd.read_csv(filename, index_col=None, header=0)\n",
    "    li.append(df)\n",
    "\n",
    "frame = pd.concat(li, axis=0, ignore_index=True)"
   ]
  },
  {
   "cell_type": "code",
   "execution_count": 5,
   "id": "649992b4",
   "metadata": {},
   "outputs": [],
   "source": [
    "frame.to_csv(\"petrol_data.csv\", index=False)"
   ]
  },
  {
   "cell_type": "code",
   "execution_count": null,
   "id": "728fae7c",
   "metadata": {},
   "outputs": [],
   "source": []
  }
 ],
 "metadata": {
  "kernelspec": {
   "display_name": "Python 3 (ipykernel)",
   "language": "python",
   "name": "python3"
  },
  "language_info": {
   "codemirror_mode": {
    "name": "ipython",
    "version": 3
   },
   "file_extension": ".py",
   "mimetype": "text/x-python",
   "name": "python",
   "nbconvert_exporter": "python",
   "pygments_lexer": "ipython3",
   "version": "3.8.10"
  }
 },
 "nbformat": 4,
 "nbformat_minor": 5
}
